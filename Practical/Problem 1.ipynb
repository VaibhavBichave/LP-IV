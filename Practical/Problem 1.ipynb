{
 "cells": [
  {
   "cell_type": "markdown",
   "id": "95f62f6b",
   "metadata": {},
   "source": [
    "## ImplementingFeedforward neural networks with Keras and TensorFlowfor classification of hand-written MNIST dataset using below steps:\n",
    "    a.Import the necessary packages\n",
    "    b.Load the training and testing data\n",
    "    c.Define the network architecture using Keras\n",
    "    d.Train the model using SGDwith 11 epochs\n",
    "    e.Evaluate the network\n",
    "    f.Plot the training loss and accuracy "
   ]
  },
  {
   "cell_type": "code",
   "execution_count": 1,
   "id": "f6734c63",
   "metadata": {},
   "outputs": [],
   "source": [
    "import tensorflow.keras as keras\n",
    "from tensorflow.keras.datasets import mnist"
   ]
  },
  {
   "cell_type": "code",
   "execution_count": 2,
   "id": "a4de90a2",
   "metadata": {},
   "outputs": [],
   "source": [
    "(X_train,y_train),(X_test,y_test) = mnist.load_data()"
   ]
  },
  {
   "cell_type": "code",
   "execution_count": 3,
   "id": "7efe93c1",
   "metadata": {},
   "outputs": [],
   "source": [
    "X_train = X_train/255.0\n",
    "X_test = X_test/255.0"
   ]
  },
  {
   "cell_type": "code",
   "execution_count": 4,
   "id": "b7e5e92d",
   "metadata": {},
   "outputs": [],
   "source": [
    "X_train = X_train.reshape(X_train.shape[0],-1)\n",
    "X_test = X_test.reshape(X_test.shape[0],-1)"
   ]
  },
  {
   "cell_type": "code",
   "execution_count": 5,
   "id": "ad3435ce",
   "metadata": {},
   "outputs": [],
   "source": [
    "from tensorflow.keras.layers import Dense\n",
    "from tensorflow.keras.models import Sequential\n",
    "from tensorflow.keras.optimizers import Adam"
   ]
  },
  {
   "cell_type": "code",
   "execution_count": 6,
   "id": "4d931324",
   "metadata": {},
   "outputs": [
    {
     "name": "stdout",
     "output_type": "stream",
     "text": [
      "Model: \"sequential\"\n",
      "_________________________________________________________________\n",
      " Layer (type)                Output Shape              Param #   \n",
      "=================================================================\n",
      " dense (Dense)               (None, 64)                50240     \n",
      "                                                                 \n",
      " dense_1 (Dense)             (None, 32)                2080      \n",
      "                                                                 \n",
      " dense_2 (Dense)             (None, 10)                330       \n",
      "                                                                 \n",
      "=================================================================\n",
      "Total params: 52,650\n",
      "Trainable params: 52,650\n",
      "Non-trainable params: 0\n",
      "_________________________________________________________________\n"
     ]
    }
   ],
   "source": [
    "model = Sequential([\n",
    "    Dense(64,activation='relu',input_shape=(28*28,)),\n",
    "    Dense(32,activation='relu'),\n",
    "    Dense(10,activation='softmax'),\n",
    "])\n",
    "\n",
    "model.summary()"
   ]
  },
  {
   "cell_type": "code",
   "execution_count": 7,
   "id": "047782cc",
   "metadata": {},
   "outputs": [],
   "source": [
    "from tensorflow.keras.losses import SparseCategoricalCrossentropy\n",
    "model.compile(optimizer='sgd',metrics=['accuracy'],loss=SparseCategoricalCrossentropy())"
   ]
  },
  {
   "cell_type": "code",
   "execution_count": 8,
   "id": "90f0b65d",
   "metadata": {
    "scrolled": true
   },
   "outputs": [
    {
     "name": "stdout",
     "output_type": "stream",
     "text": [
      "Epoch 1/11\n",
      "1875/1875 [==============================] - 28s 13ms/step - loss: 0.6813 - accuracy: 0.8180 - val_loss: 0.3385 - val_accuracy: 0.8996\n",
      "Epoch 2/11\n",
      "1875/1875 [==============================] - 20s 11ms/step - loss: 0.3098 - accuracy: 0.9120 - val_loss: 0.2656 - val_accuracy: 0.9224\n",
      "Epoch 3/11\n",
      "1875/1875 [==============================] - 24s 13ms/step - loss: 0.2596 - accuracy: 0.9253 - val_loss: 0.2312 - val_accuracy: 0.9301\n",
      "Epoch 4/11\n",
      "1875/1875 [==============================] - 20s 11ms/step - loss: 0.2283 - accuracy: 0.9352 - val_loss: 0.2077 - val_accuracy: 0.9382\n",
      "Epoch 5/11\n",
      "1875/1875 [==============================] - 32s 17ms/step - loss: 0.2037 - accuracy: 0.9410 - val_loss: 0.1859 - val_accuracy: 0.9443\n",
      "Epoch 6/11\n",
      "1875/1875 [==============================] - 41s 22ms/step - loss: 0.1829 - accuracy: 0.9475 - val_loss: 0.1686 - val_accuracy: 0.9506\n",
      "Epoch 7/11\n",
      "1875/1875 [==============================] - 43s 23ms/step - loss: 0.1654 - accuracy: 0.9526 - val_loss: 0.1579 - val_accuracy: 0.9511\n",
      "Epoch 8/11\n",
      "1875/1875 [==============================] - 42s 23ms/step - loss: 0.1514 - accuracy: 0.9562 - val_loss: 0.1466 - val_accuracy: 0.9552\n",
      "Epoch 9/11\n",
      "1875/1875 [==============================] - 33s 18ms/step - loss: 0.1397 - accuracy: 0.9593 - val_loss: 0.1444 - val_accuracy: 0.9552\n",
      "Epoch 10/11\n",
      "1875/1875 [==============================] - 27s 14ms/step - loss: 0.1298 - accuracy: 0.9617 - val_loss: 0.1332 - val_accuracy: 0.9597\n",
      "Epoch 11/11\n",
      "1875/1875 [==============================] - 23s 12ms/step - loss: 0.1210 - accuracy: 0.9647 - val_loss: 0.1289 - val_accuracy: 0.9610\n"
     ]
    }
   ],
   "source": [
    "epochs = 11\n",
    "H = model.fit(X_train,y_train,validation_data=(X_test,y_test),epochs=epochs)"
   ]
  },
  {
   "cell_type": "code",
   "execution_count": 9,
   "id": "3ce30ba3",
   "metadata": {},
   "outputs": [
    {
     "name": "stdout",
     "output_type": "stream",
     "text": [
      "              precision    recall  f1-score   support\n",
      "\n",
      "           0       0.96      0.98      0.97       980\n",
      "           1       0.98      0.99      0.98      1135\n",
      "           2       0.96      0.96      0.96      1032\n",
      "           3       0.97      0.94      0.95      1010\n",
      "           4       0.97      0.95      0.96       982\n",
      "           5       0.94      0.96      0.95       892\n",
      "           6       0.96      0.97      0.96       958\n",
      "           7       0.95      0.97      0.96      1028\n",
      "           8       0.95      0.95      0.95       974\n",
      "           9       0.96      0.94      0.95      1009\n",
      "\n",
      "    accuracy                           0.96     10000\n",
      "   macro avg       0.96      0.96      0.96     10000\n",
      "weighted avg       0.96      0.96      0.96     10000\n",
      "\n"
     ]
    }
   ],
   "source": [
    "from sklearn.metrics import classification_report\n",
    "predition = model.predict(X_test)\n",
    "print(classification_report(y_test,predition.argmax(axis=1)))"
   ]
  },
  {
   "cell_type": "code",
   "execution_count": 10,
   "id": "c26fb648",
   "metadata": {},
   "outputs": [
    {
     "data": {
      "image/png": "[encoded data removed]",
      "text/plain": [
       "<Figure size 432x288 with 1 Axes>"
      ]
     },
     "metadata": {
      "needs_background": "light"
     },
     "output_type": "display_data"
    }
   ],
   "source": [
    "import matplotlib.pyplot as plt\n",
    "plt.plot(range(0,epochs),H.history['accuracy'],label = 'Accuracy')\n",
    "plt.plot(range(0,epochs),H.history['val_accuracy'],label = 'Val Accuracy')\n",
    "plt.xlabel('Epochs')\n",
    "plt.ylabel('Accuracy')\n",
    "plt.legend()\n",
    "plt.grid()"
   ]
  },
  {
   "cell_type": "code",
   "execution_count": 11,
   "id": "20e50040",
   "metadata": {},
   "outputs": [
    {
     "data": {
      "image/png": "[encoded data removed]",
      "text/plain": [
       "<Figure size 432x288 with 1 Axes>"
      ]
     },
     "metadata": {
      "needs_background": "light"
     },
     "output_type": "display_data"
    }
   ],
   "source": [
    "import matplotlib.pyplot as plt\n",
    "plt.plot(range(0,epochs),H.history['loss'],label = 'Loss')\n",
    "plt.plot(range(0,epochs),H.history['val_loss'],label = 'Val Loss')\n",
    "plt.xlabel('Epochs')\n",
    "plt.ylabel('Loss')\n",
    "plt.legend()\n",
    "plt.grid();"
   ]
  }
 ],
 "metadata": {
  "kernelspec": {
   "display_name": "Python 3 (ipykernel)",
   "language": "python",
   "name": "python3"
  },
  "language_info": {
   "codemirror_mode": {
    "name": "ipython",
    "version": 3
   },
   "file_extension": ".py",
   "mimetype": "text/x-python",
   "name": "python",
   "nbconvert_exporter": "python",
   "pygments_lexer": "ipython3",
   "version": "3.8.6"
  }
 },
 "nbformat": 4,
 "nbformat_minor": 5
}
