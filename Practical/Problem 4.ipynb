{
 "cells": [
  {
   "cell_type": "markdown",
   "id": "54fec84f",
   "metadata": {},
   "source": [
    "## Implement theCNN model for classifying CIFAR10 image dataset by dividingthe modelintofollowing4stages:\n",
    "    a. Loadingand preprocessingtheimagedata\n",
    "    b. Definingthemodel'sarchitecture\n",
    "    c. Trainingthe model\n",
    "    d. Estimatingthemodel'sperformance "
   ]
  },
  {
   "cell_type": "code",
   "execution_count": 1,
   "id": "25a4235b",
   "metadata": {},
   "outputs": [],
   "source": [
    "from tensorflow.keras.datasets import cifar10"
   ]
  },
  {
   "cell_type": "code",
   "execution_count": 2,
   "id": "c798d2b1",
   "metadata": {},
   "outputs": [],
   "source": [
    "(X_train,y_train),(X_test,y_test) = cifar10.load_data()"
   ]
  },
  {
   "cell_type": "code",
   "execution_count": 3,
   "id": "c38f4fc1",
   "metadata": {},
   "outputs": [],
   "source": [
    "X_train  = X_train/255.0\n",
    "X_test = X_test/255.0"
   ]
  },
  {
   "cell_type": "code",
   "execution_count": 4,
   "id": "8c93da73",
   "metadata": {},
   "outputs": [],
   "source": [
    "y_train = y_train.flatten()\n",
    "y_test = y_test.flatten()"
   ]
  },
  {
   "cell_type": "code",
   "execution_count": 5,
   "id": "0aaa5c0b",
   "metadata": {},
   "outputs": [],
   "source": [
    "from tensorflow.keras.models import Sequential\n",
    "from tensorflow.keras.layers import Conv2D,MaxPool2D,Flatten,Dense"
   ]
  },
  {
   "cell_type": "code",
   "execution_count": 6,
   "id": "aea70d44",
   "metadata": {},
   "outputs": [
    {
     "name": "stdout",
     "output_type": "stream",
     "text": [
      "Model: \"sequential\"\n",
      "_________________________________________________________________\n",
      " Layer (type)                Output Shape              Param #   \n",
      "=================================================================\n",
      " conv2d (Conv2D)             (None, 30, 30, 64)        1792      \n",
      "                                                                 \n",
      " max_pooling2d (MaxPooling2D  (None, 15, 15, 64)       0         \n",
      " )                                                               \n",
      "                                                                 \n",
      " conv2d_1 (Conv2D)           (None, 13, 13, 32)        18464     \n",
      "                                                                 \n",
      " max_pooling2d_1 (MaxPooling  (None, 6, 6, 32)         0         \n",
      " 2D)                                                             \n",
      "                                                                 \n",
      " conv2d_2 (Conv2D)           (None, 4, 4, 16)          4624      \n",
      "                                                                 \n",
      " flatten (Flatten)           (None, 256)               0         \n",
      "                                                                 \n",
      " dense (Dense)               (None, 16)                4112      \n",
      "                                                                 \n",
      " dense_1 (Dense)             (None, 10)                170       \n",
      "                                                                 \n",
      "=================================================================\n",
      "Total params: 29,162\n",
      "Trainable params: 29,162\n",
      "Non-trainable params: 0\n",
      "_________________________________________________________________\n"
     ]
    }
   ],
   "source": [
    "model = Sequential([\n",
    "    Conv2D(64,(3,3),activation='relu',input_shape=(32,32,3)),\n",
    "    MaxPool2D((2,2)),\n",
    "    Conv2D(32,(3,3),activation='relu'),\n",
    "    MaxPool2D((2,2)),\n",
    "    Conv2D(16,(3,3),activation='relu'),\n",
    "    Flatten(),\n",
    "    Dense(16,activation='relu'),\n",
    "    Dense(10,activation='softmax')\n",
    "    \n",
    "])\n",
    "\n",
    "model.summary()"
   ]
  },
  {
   "cell_type": "code",
   "execution_count": 7,
   "id": "ebe0691c",
   "metadata": {},
   "outputs": [],
   "source": [
    "from tensorflow.keras.losses import SparseCategoricalCrossentropy\n",
    "model.compile(optimizer='adam',loss=SparseCategoricalCrossentropy(),metrics=['accuracy'])"
   ]
  },
  {
   "cell_type": "code",
   "execution_count": 8,
   "id": "e2add602",
   "metadata": {},
   "outputs": [
    {
     "name": "stdout",
     "output_type": "stream",
     "text": [
      "Epoch 1/2\n",
      "1563/1563 [==============================] - 133s 84ms/step - loss: 1.7020 - accuracy: 0.3736 - val_loss: 1.3973 - val_accuracy: 0.4985\n",
      "Epoch 2/2\n",
      "1563/1563 [==============================] - 220s 141ms/step - loss: 1.3463 - accuracy: 0.5134 - val_loss: 1.2586 - val_accuracy: 0.5446\n"
     ]
    }
   ],
   "source": [
    "epochs = 2\n",
    "H = model.fit(X_train,y_train,validation_data=(X_test,y_test),epochs=epochs)"
   ]
  },
  {
   "cell_type": "code",
   "execution_count": 9,
   "id": "abedb4d5",
   "metadata": {},
   "outputs": [
    {
     "name": "stdout",
     "output_type": "stream",
     "text": [
      "              precision    recall  f1-score   support\n",
      "\n",
      "           0       0.58      0.56      0.57      1000\n",
      "           1       0.60      0.80      0.69      1000\n",
      "           2       0.39      0.43      0.41      1000\n",
      "           3       0.42      0.26      0.32      1000\n",
      "           4       0.42      0.46      0.44      1000\n",
      "           5       0.56      0.35      0.43      1000\n",
      "           6       0.58      0.70      0.64      1000\n",
      "           7       0.59      0.69      0.63      1000\n",
      "           8       0.61      0.68      0.64      1000\n",
      "           9       0.68      0.52      0.59      1000\n",
      "\n",
      "    accuracy                           0.54     10000\n",
      "   macro avg       0.54      0.54      0.54     10000\n",
      "weighted avg       0.54      0.54      0.54     10000\n",
      "\n"
     ]
    }
   ],
   "source": [
    "from sklearn.metrics import classification_report\n",
    "predition = model.predict(X_test)\n",
    "print(classification_report(y_test,predition.argmax(axis=1)))"
   ]
  },
  {
   "cell_type": "code",
   "execution_count": 10,
   "id": "3884af25",
   "metadata": {},
   "outputs": [
    {
     "data": {
      "image/png": "[encoded data removed]",
      "text/plain": [
       "<Figure size 432x288 with 1 Axes>"
      ]
     },
     "metadata": {
      "needs_background": "light"
     },
     "output_type": "display_data"
    }
   ],
   "source": [
    "import matplotlib.pyplot as plt\n",
    "plt.plot(range(0,epochs),H.history['accuracy'],label = 'Accuracy')\n",
    "plt.plot(range(0,epochs),H.history['val_accuracy'],label = 'Val Accuracy')\n",
    "plt.xlabel('Epochs')\n",
    "plt.ylabel('Accuracy')\n",
    "plt.legend()\n",
    "plt.grid()"
   ]
  },
  {
   "cell_type": "code",
   "execution_count": 11,
   "id": "a8547e5e",
   "metadata": {},
   "outputs": [
    {
     "data": {
      "image/png": "[encoded data removed]",
      "text/plain": [
       "<Figure size 432x288 with 1 Axes>"
      ]
     },
     "metadata": {
      "needs_background": "light"
     },
     "output_type": "display_data"
    }
   ],
   "source": [
    "plt.plot(range(0,epochs),H.history['loss'],label = 'Loss')\n",
    "plt.plot(range(0,epochs),H.history['val_loss'],label = 'Val Loss')\n",
    "plt.xlabel('Epochs')\n",
    "plt.ylabel('Loss')\n",
    "plt.legend()\n",
    "plt.grid();"
   ]
  }
 ],
 "metadata": {
  "kernelspec": {
   "display_name": "Python 3 (ipykernel)",
   "language": "python",
   "name": "python3"
  },
  "language_info": {
   "codemirror_mode": {
    "name": "ipython",
    "version": 3
   },
   "file_extension": ".py",
   "mimetype": "text/x-python",
   "name": "python",
   "nbconvert_exporter": "python",
   "pygments_lexer": "ipython3",
   "version": "3.8.6"
  }
 },
 "nbformat": 4,
 "nbformat_minor": 5
}
