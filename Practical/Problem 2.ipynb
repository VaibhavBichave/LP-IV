{
 "cells": [
  {
   "cell_type": "markdown",
   "id": "98127c6c",
   "metadata": {},
   "source": [
    "## Implement theImageclassificationCNN modelfor classifying hand-written MNISTdataset by dividingthemodelintofollowing4stages:\n",
    "    a. Loadingand preprocessingtheimagedata\n",
    "    b. Definingthemodel'sarchitecture\n",
    "    c. Trainingthe model\n",
    "    d. Estimatingthemodel'sperformance "
   ]
  },
  {
   "cell_type": "code",
   "execution_count": 1,
   "id": "c1ceb2a9",
   "metadata": {},
   "outputs": [],
   "source": [
    "from tensorflow.keras.datasets import mnist"
   ]
  },
  {
   "cell_type": "code",
   "execution_count": 2,
   "id": "78e60460",
   "metadata": {},
   "outputs": [],
   "source": [
    "(X_train,y_train),(X_test,y_test) = mnist.load_data()"
   ]
  },
  {
   "cell_type": "code",
   "execution_count": 3,
   "id": "eb212a8a",
   "metadata": {},
   "outputs": [],
   "source": [
    "X_train = X_train/255.0\n",
    "X_test = X_test/255.0"
   ]
  },
  {
   "cell_type": "code",
   "execution_count": 4,
   "id": "9295c3d6",
   "metadata": {},
   "outputs": [],
   "source": [
    "from tensorflow.keras.models import Sequential\n",
    "from tensorflow.keras.layers import Conv2D,MaxPool2D,Flatten,Dense"
   ]
  },
  {
   "cell_type": "code",
   "execution_count": 5,
   "id": "6b9496c6",
   "metadata": {},
   "outputs": [
    {
     "name": "stdout",
     "output_type": "stream",
     "text": [
      "Model: \"sequential\"\n",
      "_________________________________________________________________\n",
      " Layer (type)                Output Shape              Param #   \n",
      "=================================================================\n",
      " conv2d (Conv2D)             (None, 26, 26, 128)       1280      \n",
      "                                                                 \n",
      " max_pooling2d (MaxPooling2D  (None, 13, 13, 128)      0         \n",
      " )                                                               \n",
      "                                                                 \n",
      " conv2d_1 (Conv2D)           (None, 11, 11, 64)        73792     \n",
      "                                                                 \n",
      " max_pooling2d_1 (MaxPooling  (None, 5, 5, 64)         0         \n",
      " 2D)                                                             \n",
      "                                                                 \n",
      " conv2d_2 (Conv2D)           (None, 3, 3, 32)          18464     \n",
      "                                                                 \n",
      " max_pooling2d_2 (MaxPooling  (None, 1, 1, 32)         0         \n",
      " 2D)                                                             \n",
      "                                                                 \n",
      " flatten (Flatten)           (None, 32)                0         \n",
      "                                                                 \n",
      " dense (Dense)               (None, 32)                1056      \n",
      "                                                                 \n",
      " dense_1 (Dense)             (None, 10)                330       \n",
      "                                                                 \n",
      "=================================================================\n",
      "Total params: 94,922\n",
      "Trainable params: 94,922\n",
      "Non-trainable params: 0\n",
      "_________________________________________________________________\n"
     ]
    }
   ],
   "source": [
    "model = Sequential([\n",
    "    Conv2D(128,(3,3),activation = 'relu',input_shape=(28,28,1)),\n",
    "    MaxPool2D((2,2)),\n",
    "    Conv2D(64,(3,3),activation = 'relu'),\n",
    "    MaxPool2D((2,2)),\n",
    "    Conv2D(32,(3,3),activation = 'relu'),\n",
    "    MaxPool2D((2,2)),\n",
    "    Flatten(),\n",
    "    Dense(32,activation = 'relu'),\n",
    "    Dense(10,activation = 'softmax')    \n",
    "])\n",
    "\n",
    "model.summary()"
   ]
  },
  {
   "cell_type": "code",
   "execution_count": 6,
   "id": "b06e19ac",
   "metadata": {},
   "outputs": [],
   "source": [
    "from tensorflow.keras.losses import SparseCategoricalCrossentropy\n",
    "model.compile(optimizer='adam',loss=SparseCategoricalCrossentropy(),metrics=['accuracy'])"
   ]
  },
  {
   "cell_type": "code",
   "execution_count": 7,
   "id": "2f06b61b",
   "metadata": {},
   "outputs": [
    {
     "name": "stdout",
     "output_type": "stream",
     "text": [
      "Epoch 1/2\n",
      "1875/1875 [==============================] - 268s 141ms/step - loss: 0.2362 - accuracy: 0.9273 - val_loss: 0.0842 - val_accuracy: 0.9757\n",
      "Epoch 2/2\n",
      "1875/1875 [==============================] - 180s 96ms/step - loss: 0.0845 - accuracy: 0.9743 - val_loss: 0.1021 - val_accuracy: 0.9687\n"
     ]
    }
   ],
   "source": [
    "epochs = 2\n",
    "H  = model.fit(X_train,y_train,validation_data=(X_test,y_test),epochs=epochs)"
   ]
  },
  {
   "cell_type": "code",
   "execution_count": 8,
   "id": "f319d1fa",
   "metadata": {},
   "outputs": [
    {
     "name": "stdout",
     "output_type": "stream",
     "text": [
      "              precision    recall  f1-score   support\n",
      "\n",
      "           0       0.99      0.97      0.98       980\n",
      "           1       1.00      0.98      0.99      1135\n",
      "           2       0.98      0.94      0.96      1032\n",
      "           3       0.87      1.00      0.93      1010\n",
      "           4       0.99      0.98      0.99       982\n",
      "           5       0.95      0.98      0.96       892\n",
      "           6       0.99      0.97      0.98       958\n",
      "           7       0.97      0.97      0.97      1028\n",
      "           8       0.99      0.96      0.97       974\n",
      "           9       0.98      0.95      0.97      1009\n",
      "\n",
      "    accuracy                           0.97     10000\n",
      "   macro avg       0.97      0.97      0.97     10000\n",
      "weighted avg       0.97      0.97      0.97     10000\n",
      "\n"
     ]
    }
   ],
   "source": [
    "from sklearn.metrics import classification_report\n",
    "prediction = model.predict(X_test)\n",
    "print(classification_report(y_test,prediction.argmax(axis=1)))"
   ]
  },
  {
   "cell_type": "code",
   "execution_count": 9,
   "id": "96a09804",
   "metadata": {},
   "outputs": [
    {
     "data": {
      "image/png": "[encoded data removed]",
      "text/plain": [
       "<Figure size 432x288 with 1 Axes>"
      ]
     },
     "metadata": {
      "needs_background": "light"
     },
     "output_type": "display_data"
    }
   ],
   "source": [
    "import matplotlib.pyplot as plt\n",
    "plt.plot(range(0,epochs),H.history['accuracy'],label = 'Accuracy')\n",
    "plt.plot(range(0,epochs),H.history['val_accuracy'],label = 'Val Accuracy')\n",
    "plt.xlabel('Epochs')\n",
    "plt.ylabel('Accuracy')\n",
    "plt.legend()\n",
    "plt.grid()"
   ]
  },
  {
   "cell_type": "code",
   "execution_count": 10,
   "id": "e62ecd21",
   "metadata": {},
   "outputs": [
    {
     "data": {
      "image/png": "[encoded data removed]",
      "text/plain": [
       "<Figure size 432x288 with 1 Axes>"
      ]
     },
     "metadata": {
      "needs_background": "light"
     },
     "output_type": "display_data"
    }
   ],
   "source": [
    "plt.plot(range(0,epochs),H.history['loss'],label = 'Loss')\n",
    "plt.plot(range(0,epochs),H.history['val_loss'],label = 'Val Loss')\n",
    "plt.xlabel('Epochs')\n",
    "plt.ylabel('Loss')\n",
    "plt.legend()\n",
    "plt.grid();"
   ]
  },
  {
   "cell_type": "code",
   "execution_count": null,
   "id": "a46d9903",
   "metadata": {},
   "outputs": [],
   "source": []
  }
 ],
 "metadata": {
  "kernelspec": {
   "display_name": "Python 3 (ipykernel)",
   "language": "python",
   "name": "python3"
  },
  "language_info": {
   "codemirror_mode": {
    "name": "ipython",
    "version": 3
   },
   "file_extension": ".py",
   "mimetype": "text/x-python",
   "name": "python",
   "nbconvert_exporter": "python",
   "pygments_lexer": "ipython3",
   "version": "3.8.6"
  }
 },
 "nbformat": 4,
 "nbformat_minor": 5
}
